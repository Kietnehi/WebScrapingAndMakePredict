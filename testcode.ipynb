{
 "cells": [
  {
   "cell_type": "code",
   "execution_count": 1,
   "id": "a4ac49d2",
   "metadata": {},
   "outputs": [
    {
     "name": "stdout",
     "output_type": "stream",
     "text": [
      "DataFrame ban đầu:\n",
      "level_1         A                   B          \n",
      "level_2         X         Y         X         Y\n",
      "0        0.520319  0.197165 -0.410111 -1.038241\n",
      "1        1.824551 -0.048418 -0.156569 -0.374213\n",
      "2        1.523562 -0.375270  1.848837  0.212037\n"
     ]
    }
   ],
   "source": [
    "import pandas as pd\n",
    "import numpy as np\n",
    "\n",
    "# Tạo một DataFrame với chỉ mục đa cấp (multi-level columns)\n",
    "arrays = [\n",
    "    ['A', 'A', 'B', 'B'],\n",
    "    ['X', 'Y', 'X', 'Y']\n",
    "]\n",
    "\n",
    "# Tạo một chỉ mục multi-level cho các cột\n",
    "index = pd.MultiIndex.from_arrays(arrays, names=('level_1', 'level_2'))\n",
    "\n",
    "# Tạo DataFrame với chỉ mục multi-level\n",
    "shooting = pd.DataFrame(np.random.randn(3, 4), columns=index)\n",
    "\n",
    "# Hiển thị DataFrame ban đầu\n",
    "print(\"DataFrame ban đầu:\")\n",
    "print(shooting)\n"
   ]
  },
  {
   "cell_type": "code",
   "execution_count": 3,
   "id": "9d84ffaf",
   "metadata": {},
   "outputs": [
    {
     "name": "stdout",
     "output_type": "stream",
     "text": [
      "\n",
      "DataFrame sau khi loại bỏ cấp 'level_1':\n",
      "level_2         X         Y         X         Y\n",
      "0        0.520319  0.197165 -0.410111 -1.038241\n",
      "1        1.824551 -0.048418 -0.156569 -0.374213\n",
      "2        1.523562 -0.375270  1.848837  0.212037\n"
     ]
    }
   ],
   "source": [
    "# Loại bỏ cấp 'level_1'\n",
    "shooting.columns = shooting.columns.droplevel()\n",
    "\n",
    "# Hiển thị DataFrame sau khi loại bỏ cấp 'level_1'\n",
    "print(\"\\nDataFrame sau khi loại bỏ cấp 'level_1':\")\n",
    "print(shooting)\n"
   ]
  },
  {
   "cell_type": "code",
   "execution_count": 5,
   "id": "7ba7c3e1",
   "metadata": {},
   "outputs": [
    {
     "data": {
      "text/plain": [
       "[2022, 2021]"
      ]
     },
     "execution_count": 5,
     "metadata": {},
     "output_type": "execute_result"
    }
   ],
   "source": [
    "years = list(range(2022, 2020, -1))\n",
    "years"
   ]
  },
  {
   "cell_type": "code",
   "execution_count": 6,
   "id": "709fc245",
   "metadata": {},
   "outputs": [
    {
     "name": "stdout",
     "output_type": "stream",
     "text": [
      "Manchester-City\n"
     ]
    }
   ],
   "source": [
    "# Example URL\n",
    "url = 'https://fbref.com/en/squads/b8fd03ef/Manchester-City-Stats'\n",
    "\n",
    "# Split the string and get the last part\n",
    "team_name = url.split('/')[-1].split('-Stats')[0]\n",
    "\n",
    "print(team_name)"
   ]
  },
  {
   "cell_type": "code",
   "execution_count": null,
   "id": "1505f88d",
   "metadata": {},
   "outputs": [],
   "source": []
  },
  {
   "cell_type": "code",
   "execution_count": null,
   "id": "77b8dfa5",
   "metadata": {},
   "outputs": [],
   "source": []
  },
  {
   "cell_type": "code",
   "execution_count": null,
   "id": "5009b530",
   "metadata": {},
   "outputs": [],
   "source": []
  }
 ],
 "metadata": {
  "kernelspec": {
   "display_name": "Python 3",
   "language": "python",
   "name": "python3"
  },
  "language_info": {
   "codemirror_mode": {
    "name": "ipython",
    "version": 3
   },
   "file_extension": ".py",
   "mimetype": "text/x-python",
   "name": "python",
   "nbconvert_exporter": "python",
   "pygments_lexer": "ipython3",
   "version": "3.11.5"
  }
 },
 "nbformat": 4,
 "nbformat_minor": 5
}
